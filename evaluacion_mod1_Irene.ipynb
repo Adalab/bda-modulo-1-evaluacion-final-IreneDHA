{
 "cells": [
  {
   "cell_type": "code",
   "execution_count": 30,
   "id": "7b88724e",
   "metadata": {},
   "outputs": [],
   "source": [
    "import re"
   ]
  },
  {
   "cell_type": "code",
   "execution_count": 140,
   "id": "3801e411",
   "metadata": {},
   "outputs": [],
   "source": [
    "class OnlineShop:\n",
    "    def __init__(self):\n",
    "        self.inventario = []\n",
    "        self.ventas_totales = float(0)\n",
    "        self.clientes = {}\n",
    "    \n",
    "    def add_product(self, nombre, precio, cantidad):\n",
    "        for producto in self.inventario: #este bucle irá elemento a elemento iterando por la lista y no parará hasta que llegue al final\n",
    "            if producto['nombre'] == nombre:\n",
    "                producto['cantidad'] += cantidad #para iterar por un dic hay que llamar a la clave porque no hay orden y no se puede usar el index\n",
    "                nueva_cantidad = producto['cantidad']\n",
    "                return(f\"el producto {nombre} ya estaba en el inventario, se actualizó la cantidad a {nueva_cantidad}\")\n",
    "        self.inventario.append({'nombre': nombre, 'precio': precio, 'cantidad': cantidad}) \n",
    "        #tiene que ir fuera del for porque sino cada vez que se encontrase un elemento que no tenga el mismo nombre, insertaría el nuevo elemento.\n",
    "        return (self.inventario) #mejor que los metodos que modifiquen no devuelvan el inventario completo sino solo un mensaje\n",
    "    \n",
    "    def see_inventory(self):\n",
    "        for producto in self.inventario:\n",
    "            print(f\"Nombre: {producto['nombre']}, Precio: {producto['precio']} €, Cantidad: {producto['cantidad']}\")\n",
    "    \n",
    "    def find_product(self, nombre):\n",
    "        for producto in self.inventario:\n",
    "            if nombre == producto['nombre']:\n",
    "                print(f\"Nombre: {producto['nombre']}, Precio: {producto['precio']} €, Cantidad: {producto['cantidad']}\")\n",
    "                return\n",
    "        print(\"este producto no se encuentra en nuestro inventario\")\n",
    "    \n",
    "    def update_stock(self, nombre, cantidad):\n",
    "        for producto in self.inventario:\n",
    "            if producto['nombre'] == nombre:\n",
    "                producto['cantidad'] += cantidad\n",
    "                print(f\"Se ha modificado el stock, ahora tenemos {producto['cantidad']} unidades de {nombre}\")\n",
    "                return #si no paramos el código, como el print está fuera del bucle, se ejecutará siempre\n",
    "        print('este producto no está en nuestro inventario')\n",
    "\n",
    "    def delete_product(self, nombre):\n",
    "        for producto in self.inventario:\n",
    "            if producto[\"nombre\"] == nombre:\n",
    "                self.inventario.remove(producto)\n",
    "                print(f\"{nombre}, se ha eliminado del inventario con todas sus características: {producto}\")\n",
    "                return\n",
    "        print(nombre, \"no está en el inventario\")\n",
    "\n",
    "    def calculate_inventory_value(self):\n",
    "        valor_total = 0.0\n",
    "        for producto in self.inventario:\n",
    "            valor_producto = producto['precio']*producto['cantidad']\n",
    "            valor_total += valor_producto\n",
    "        print(f'el valor total de nuestro inventario es {valor_total} €')\n",
    "        return\n",
    "    \n",
    "    def add_clients(self, nombre, email):\n",
    "        patron_email = r'^[^@]+@[^@]+\\.[^@]+$' #tengo que usar la r para indicar que es un patrón de regex y que no dé error \\.\n",
    "\n",
    "        if nombre in self.clientes: #next steps: \"or email in clientes\" -> habría que pensar una forma de hacer que el email tampoco se repita\n",
    "            print(\"Ese cliente ya existe.\")\n",
    "            return\n",
    "\n",
    "        elif re.match(patron_email, email) is None:\n",
    "            print(\"Email no válido.\")\n",
    "            return #no puedo usar break porque solo se usa dentro de bucles\n",
    "\n",
    "        else: \n",
    "            self.clientes[nombre] = {'email': email, 'compras': []}\n",
    "            print(f\"Cliente '{nombre}' agregado correctamente.\")\n",
    "        print(self.clientes)\n",
    "        \n",
    "    def process_payment(self):\n",
    "        try:\n",
    "            pago_necesario = float(input(\"Escriba la cantidad total a pagar: \"))\n",
    "            dinero_ingresado = float(input(\"Escriba la cantidad total que quiere abonar: \"))\n",
    "\n",
    "            if dinero_ingresado < pago_necesario:\n",
    "                print(\"Error: cantidad innecesaria para realizar el pago, por favor ingrese otra cantidad\")\n",
    "            else:\n",
    "                cambio_redondeado = round((dinero_ingresado - pago_necesario), 2) \n",
    "                print(\"Compra realizada con éxito, su cambio es:\", cambio_redondeado)\n",
    "        except ValueError:\n",
    "            print(\"Error! Por favor ingrese un número válido\")\n",
    "\n",
    "   "
   ]
  },
  {
   "cell_type": "code",
   "execution_count": 141,
   "id": "c098901d",
   "metadata": {},
   "outputs": [],
   "source": [
    "tienda_irene = OnlineShop()"
   ]
  },
  {
   "cell_type": "code",
   "execution_count": 142,
   "id": "bbd72757",
   "metadata": {},
   "outputs": [
    {
     "data": {
      "text/plain": [
       "[{'nombre': 'pienso', 'precio': 25.6, 'cantidad': 100},\n",
       " {'nombre': 'latas', 'precio': 20.99, 'cantidad': 50},\n",
       " {'nombre': 'arenero', 'precio': 19.99, 'cantidad': 45},\n",
       " {'nombre': 'juguete', 'precio': 16.55, 'cantidad': 20},\n",
       " {'nombre': 'chuches', 'precio': 5, 'cantidad': 120}]"
      ]
     },
     "execution_count": 142,
     "metadata": {},
     "output_type": "execute_result"
    }
   ],
   "source": [
    "tienda_irene.add_product('pienso', 25.6, 100)\n",
    "tienda_irene.add_product('latas', 20.99, 50)\n",
    "tienda_irene.add_product('arenero', 19.99, 45)\n",
    "tienda_irene.add_product('juguete', 16.55, 20)\n",
    "tienda_irene.add_product('chuches', 5, 120)"
   ]
  },
  {
   "cell_type": "code",
   "execution_count": 143,
   "id": "3831ad6c",
   "metadata": {},
   "outputs": [
    {
     "data": {
      "text/plain": [
       "[{'nombre': 'pienso', 'precio': 25.6, 'cantidad': 100},\n",
       " {'nombre': 'latas', 'precio': 20.99, 'cantidad': 50},\n",
       " {'nombre': 'arenero', 'precio': 19.99, 'cantidad': 45},\n",
       " {'nombre': 'juguete', 'precio': 16.55, 'cantidad': 20},\n",
       " {'nombre': 'chuches', 'precio': 5, 'cantidad': 120},\n",
       " {'nombre': 'Chuches', 'precio': 5, 'cantidad': 20}]"
      ]
     },
     "execution_count": 143,
     "metadata": {},
     "output_type": "execute_result"
    }
   ],
   "source": [
    "tienda_irene.add_product('Chuches', 5, 20) #next step: programación defensiva nombre.lower()"
   ]
  },
  {
   "cell_type": "code",
   "execution_count": 144,
   "id": "1861f67b",
   "metadata": {},
   "outputs": [
    {
     "data": {
      "text/plain": [
       "'el producto chuches ya estaba en el inventario, se actualizó la cantidad a 140'"
      ]
     },
     "execution_count": 144,
     "metadata": {},
     "output_type": "execute_result"
    }
   ],
   "source": [
    "tienda_irene.add_product('chuches', 5, 20)"
   ]
  },
  {
   "cell_type": "code",
   "execution_count": 145,
   "id": "7cdad0b0",
   "metadata": {},
   "outputs": [
    {
     "name": "stdout",
     "output_type": "stream",
     "text": [
      "Nombre: pienso, Precio: 25.6 €, Cantidad: 100\n",
      "Nombre: latas, Precio: 20.99 €, Cantidad: 50\n",
      "Nombre: arenero, Precio: 19.99 €, Cantidad: 45\n",
      "Nombre: juguete, Precio: 16.55 €, Cantidad: 20\n",
      "Nombre: chuches, Precio: 5 €, Cantidad: 140\n",
      "Nombre: Chuches, Precio: 5 €, Cantidad: 20\n"
     ]
    }
   ],
   "source": [
    "tienda_irene.see_inventory() #next step: programación defensiva nombre.capitalize()"
   ]
  },
  {
   "cell_type": "code",
   "execution_count": 146,
   "id": "da73b2df",
   "metadata": {},
   "outputs": [
    {
     "name": "stdout",
     "output_type": "stream",
     "text": [
      "este producto no se encuentra en nuestro inventario\n"
     ]
    }
   ],
   "source": [
    "tienda_irene.find_product('perro')"
   ]
  },
  {
   "cell_type": "code",
   "execution_count": 147,
   "id": "830bba6e",
   "metadata": {},
   "outputs": [
    {
     "name": "stdout",
     "output_type": "stream",
     "text": [
      "Nombre: chuches, Precio: 5 €, Cantidad: 140\n"
     ]
    }
   ],
   "source": [
    "tienda_irene.find_product('chuches')"
   ]
  },
  {
   "cell_type": "code",
   "execution_count": 148,
   "id": "d2d99161",
   "metadata": {},
   "outputs": [
    {
     "name": "stdout",
     "output_type": "stream",
     "text": [
      "Se ha modificado el stock, ahora tenemos 59 unidades de latas\n"
     ]
    }
   ],
   "source": [
    "tienda_irene.update_stock('latas', 9)\n"
   ]
  },
  {
   "cell_type": "code",
   "execution_count": 149,
   "id": "46979c2c",
   "metadata": {},
   "outputs": [
    {
     "name": "stdout",
     "output_type": "stream",
     "text": [
      "chuches, se ha eliminado del inventario con todas sus características: {'nombre': 'chuches', 'precio': 5, 'cantidad': 140}\n"
     ]
    }
   ],
   "source": [
    "tienda_irene.delete_product('chuches')"
   ]
  },
  {
   "cell_type": "code",
   "execution_count": 150,
   "id": "ed9114d6",
   "metadata": {},
   "outputs": [
    {
     "name": "stdout",
     "output_type": "stream",
     "text": [
      "el valor total de nuestro inventario es 5128.96 €\n"
     ]
    }
   ],
   "source": [
    "tienda_irene.calculate_inventory_value()"
   ]
  },
  {
   "cell_type": "code",
   "execution_count": 151,
   "id": "d4ca4987",
   "metadata": {},
   "outputs": [
    {
     "name": "stdout",
     "output_type": "stream",
     "text": [
      "Cliente 'Irene' agregado correctamente.\n",
      "{'Irene': {'email': 'irene@gmail.com', 'compras': []}}\n"
     ]
    }
   ],
   "source": [
    "tienda_irene.add_clients('Irene', 'irene@gmail.com')"
   ]
  },
  {
   "cell_type": "code",
   "execution_count": 152,
   "id": "ac06487b",
   "metadata": {},
   "outputs": [
    {
     "name": "stdout",
     "output_type": "stream",
     "text": [
      "Ese cliente ya existe.\n"
     ]
    }
   ],
   "source": [
    "tienda_irene.add_clients('Irene', 'irene@gmail.com')"
   ]
  },
  {
   "cell_type": "code",
   "execution_count": 153,
   "id": "96fd9b93",
   "metadata": {},
   "outputs": [
    {
     "name": "stdout",
     "output_type": "stream",
     "text": [
      "Ese cliente ya existe.\n"
     ]
    }
   ],
   "source": [
    "tienda_irene.add_clients('Irene', 'irenegmail.com') #esto se solucionaría con el next step que mencioné"
   ]
  },
  {
   "cell_type": "code",
   "execution_count": 154,
   "id": "e6bbafd2",
   "metadata": {},
   "outputs": [
    {
     "name": "stdout",
     "output_type": "stream",
     "text": [
      "Email no válido.\n"
     ]
    }
   ],
   "source": [
    "tienda_irene.add_clients('Alba', 'albagmail.com')"
   ]
  },
  {
   "cell_type": "code",
   "execution_count": 155,
   "id": "42fc752e",
   "metadata": {},
   "outputs": [
    {
     "name": "stdout",
     "output_type": "stream",
     "text": [
      "Email no válido.\n"
     ]
    }
   ],
   "source": [
    "tienda_irene.add_clients('Alba', 'alba@gmailcom')"
   ]
  },
  {
   "cell_type": "code",
   "execution_count": 156,
   "id": "5ba08b46",
   "metadata": {},
   "outputs": [
    {
     "data": {
      "text/plain": [
       "'def realizar_compra(self)\\ncarrito = []\\nwhile True:\\n    print(\"Ingrese el nombre del producto que desea comprar o \\'salir\\' para finalizar\\n\"\\n          \"Puede escoger entre estos productos:\")\\n    for producto in self.inventario:\\n        print(producto[\\'nombre\\'])\\n    compra = input()\\n    if compra.lower() == \\'salir\\':\\n        print(carrito)\\n        break\\n    else:\\n        producto_encontrado = tienda_irene.buscar_producto(compra) \\n        if producto_encontrado is True: #aquí el código empieza a fallar\\n            carrito.append(producto)\\n        else: \\n            print(\"este artíclo no está en nuestro inventario\")\\n        print(carrito)\\n    #hay que encontrar la forma de que busque en el inventario\\n    #pedir la cantidad\\n    #sumar el precio total = sum(producto[\\'precio\\']* producto[\\'cantidad\\'] for producto in carrito) -> list comprehension'"
      ]
     },
     "execution_count": 156,
     "metadata": {},
     "output_type": "execute_result"
    }
   ],
   "source": [
    "\"\"\"def realizar_compra(self)\n",
    "carrito = []\n",
    "while True:\n",
    "    print(\"Ingrese el nombre del producto que desea comprar o 'salir' para finalizar\\n\"\n",
    "          \"Puede escoger entre estos productos:\")\n",
    "    for producto in self.inventario:\n",
    "        print(producto['nombre'])\n",
    "    compra = input()\n",
    "    if compra.lower() == 'salir':\n",
    "        print(carrito)\n",
    "        break\n",
    "    else:\n",
    "        producto_encontrado = tienda_irene.buscar_producto(compra) \n",
    "        if producto_encontrado is True: #aquí el código empieza a fallar\n",
    "            carrito.append(producto)\n",
    "        else: \n",
    "            print(\"este artíclo no está en nuestro inventario\")\n",
    "        print(carrito)\n",
    "    #hay que encontrar la forma de que busque en el inventario\n",
    "    #pedir la cantidad\n",
    "    #sumar el precio total = sum(producto['precio']* producto['cantidad'] for producto in carrito) -> list comprehension\"\"\""
   ]
  },
  {
   "cell_type": "code",
   "execution_count": 158,
   "id": "19893f4e",
   "metadata": {},
   "outputs": [
    {
     "name": "stdout",
     "output_type": "stream",
     "text": [
      "Compra realizada con éxito, su cambio es: 0.01\n"
     ]
    }
   ],
   "source": [
    "tienda_irene.process_payment()"
   ]
  }
 ],
 "metadata": {
  "kernelspec": {
   "display_name": "base",
   "language": "python",
   "name": "python3"
  },
  "language_info": {
   "codemirror_mode": {
    "name": "ipython",
    "version": 3
   },
   "file_extension": ".py",
   "mimetype": "text/x-python",
   "name": "python",
   "nbconvert_exporter": "python",
   "pygments_lexer": "ipython3",
   "version": "3.12.7"
  }
 },
 "nbformat": 4,
 "nbformat_minor": 5
}
