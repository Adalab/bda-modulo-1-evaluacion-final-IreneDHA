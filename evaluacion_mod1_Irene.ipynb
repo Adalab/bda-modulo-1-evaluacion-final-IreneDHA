{
 "cells": [
  {
   "cell_type": "code",
   "execution_count": 17,
   "id": "7b88724e",
   "metadata": {},
   "outputs": [],
   "source": [
    "import re"
   ]
  },
  {
   "cell_type": "code",
   "execution_count": 18,
   "id": "3801e411",
   "metadata": {},
   "outputs": [],
   "source": [
    "class TiendaOnline:\n",
    "    def __init__(self):\n",
    "        self.inventario = []\n",
    "        self.ventas_totales = float(0)\n",
    "        self.clientes = {}\n",
    "    \n",
    "    def agregar_producto(self, nombre, precio, cantidad):\n",
    "        for producto in self.inventario: #este bucle irá elemento a elemento iterando por la lista y no parará hasta que llegue al final\n",
    "            if producto['nombre'] == nombre:\n",
    "                producto['cantidad'] += cantidad\n",
    "                nueva_cantidad = producto['cantidad']\n",
    "                return(f\"el producto {nombre} ya estaba en el inventario, se actualizó la cantidad a {nueva_cantidad}\")\n",
    "        self.inventario.append({'nombre': nombre, 'precio': precio, 'cantidad': cantidad}) \n",
    "        #tiene que ir fuera del for porque sino cada vez que se encontrase un elemento que no tenga el mismo nombre, insertaría el nuevo elemento.\n",
    "        #por ejemplo: inventario = bolso y camisa / nuevo producto = pantalón/ bolso=pantalón - no - añado pantalon - camisa=pantalon - no - añado pantalón - terminamos con 2 pantalones repetidos. \n",
    "        #si va fuera no pasa eso\n",
    "        return (self.inventario) #mejor que los metodos que modifiquen no devuelvan el inventario completo sino solo un mensaje\n",
    "    \n",
    "    def ver_inventario(self):\n",
    "        for producto in self.inventario:\n",
    "            print(producto)\n",
    "            #cuando pueda volver a esta para ver cómo cambiarle el formato a como dice el ejercicio que debería verse\n",
    "            #print(f\"Nombre: {producto['nombre']}, Precio: ${producto['precio']}, Cantidad: {producto['cantidad']}\")print(f\"Nombre: {producto['nombre']}, Precio: ${producto['precio']}, Cantidad: {producto['cantidad']}\")\n",
    "    \n",
    "    def buscar_producto(self, nombre):\n",
    "        for producto in self.inventario:\n",
    "            if nombre == producto['nombre']:\n",
    "                return(producto)\n",
    "        print(\"este producto no se encuentra en nuestro inventario\")\n",
    "        #cuando pueda volver a esta para ver cómo cambiarle el formato a como dice el ejercicio que debería verse\n",
    "        #print(f\"Nombre: {producto['nombre']}, Precio: ${producto['precio']}, Cantidad: {producto['cantidad']}\")\n",
    "            #return\n",
    "    \n",
    "    def actualizar_stock(self, nombre, cantidad):\n",
    "        for producto in self.inventario:\n",
    "            if producto['nombre'] == nombre:\n",
    "                producto['cantidad'] += cantidad\n",
    "                return(f\"se ha modificado el stock, ahora tenemos {cantidad} {nombre}\")#ahora devuelve solo la cantidad nueva no la total\n",
    "        #print(f\"Se ha modificado el stock, ahora tenemos {producto['cantidad']} unidades de {nombre}\")\n",
    "            #return\n",
    "        print('este producto no está en nuestro inventario')\n",
    "        #mejor que los metodos que modifiquen no devuelvan el inventario completo sino solo un mensaje\n",
    "\n",
    "    def eliminar_producto(self, nombre):\n",
    "        for producto in self.inventario:\n",
    "            if producto[\"nombre\"] == nombre:\n",
    "                self.inventario.remove(producto)\n",
    "                print(f\"{nombre}, se ha eliminado del inventario con todas sus características: {producto}\")\n",
    "                return\n",
    "        print(nombre, \"no está en el inventario\")\n",
    "\n",
    "    def calcular_valor_inventario(self):\n",
    "        valor_total = 0.0\n",
    "        for producto in self.inventario:\n",
    "            valor_producto = producto['precio']*producto['cantidad']\n",
    "            valor_total += valor_producto\n",
    "        \n",
    "        print(f'el valor total de nuestro inventario es {valor_total} €')\n",
    "        return #Aquí el return valor_total está dentro del bucle for, lo que significa que en cuanto se calcula el valor del primer producto, inmediatamente se retorna ese valor y se sale de la función.\n",
    "\n",
    "            #valor_total.append(valor_producto) --> ver jupyter prueba\n",
    "            # esto lo usé dando un valor de lista a \"variable total\"\n",
    "            #para hacer pruebas y asegurarme de que se estaba haciendo bien la suma\n",
    "        \n",
    "            #total_valor_inventario = sum(valor_total) -> cuando uso una lista tengo que crear otra variable para sumarla\n",
    "            #print(total_valor_inventario)\n",
    "    \n",
    "    def agregar_clientes(self, nombre, email):\n",
    "        patron_email = r'^[^@]+@[^@]+\\.[^@]+$' #tengo que usar la r para indicar que es un patrón de regex y que no dé error \\.\n",
    "\n",
    "        if nombre in self.clientes: #or email in clientes -> habría que pensar una forma de hacer que el email tampoco se repita\n",
    "            print(\"Ese cliente ya existe.\")\n",
    "            return\n",
    "\n",
    "        elif re.match(patron_email, email) is None:\n",
    "            print(\"Email no válido.\")\n",
    "            return #no puedo usar break porque solo se usa dentro de bucles\n",
    "\n",
    "        else: \n",
    "            self.clientes[nombre] = {'email': email, 'compras': []}\n",
    "            print(f\"Cliente '{nombre}' agregado correctamente.\")\n",
    "        print(self.clientes)\n",
    "    def procesar_pago(self):\n",
    "        try:\n",
    "            pago_necesario = float(input(\"Escriba la cantidad total a pagar: \"))\n",
    "            dinero_ingresado = float(input(\"Escriba la cantidad total que quiere abonar: \"))\n",
    "\n",
    "            if dinero_ingresado < pago_necesario:\n",
    "                print(\"Error: cantidad innecesaria para realizar el pago, por favor ingrese otra cantidad\")\n",
    "            else:\n",
    "                cambio_redondeado = round((dinero_ingresado - pago_necesario), 2) \n",
    "                print(\"Compra realizada con éxito, su cambio es:\", cambio_redondeado)\n",
    "        except ValueError:\n",
    "            print(\"Error! Por favor ingrese un número válido\")\n",
    "\n",
    "   "
   ]
  },
  {
   "cell_type": "code",
   "execution_count": 19,
   "id": "c098901d",
   "metadata": {},
   "outputs": [],
   "source": [
    "tienda_irene = TiendaOnline()"
   ]
  },
  {
   "cell_type": "code",
   "execution_count": 20,
   "id": "bbd72757",
   "metadata": {},
   "outputs": [
    {
     "data": {
      "text/plain": [
       "[{'nombre': 'Pienso', 'precio': 25.6, 'cantidad': 100},\n",
       " {'nombre': 'Latas', 'precio': 20.99, 'cantidad': 50},\n",
       " {'nombre': 'Arenero', 'precio': 19.99, 'cantidad': 45},\n",
       " {'nombre': 'Juguete', 'precio': 16.55, 'cantidad': 20},\n",
       " {'nombre': 'Chuches', 'precio': 5, 'cantidad': 120}]"
      ]
     },
     "execution_count": 20,
     "metadata": {},
     "output_type": "execute_result"
    }
   ],
   "source": [
    "tienda_irene.agregar_producto('Pienso', 25.6, 100)\n",
    "tienda_irene.agregar_producto('Latas', 20.99, 50)\n",
    "tienda_irene.agregar_producto('Arenero', 19.99, 45)\n",
    "tienda_irene.agregar_producto('Juguete', 16.55, 20)\n",
    "tienda_irene.agregar_producto('Chuches', 5, 120)"
   ]
  },
  {
   "cell_type": "code",
   "execution_count": 21,
   "id": "3831ad6c",
   "metadata": {},
   "outputs": [
    {
     "data": {
      "text/plain": [
       "'el producto Chuches ya estaba en el inventario, se actualizó la cantidad a 140'"
      ]
     },
     "execution_count": 21,
     "metadata": {},
     "output_type": "execute_result"
    }
   ],
   "source": [
    "tienda_irene.agregar_producto('Chuches', 5, 20)"
   ]
  },
  {
   "cell_type": "code",
   "execution_count": 22,
   "id": "7cdad0b0",
   "metadata": {},
   "outputs": [
    {
     "name": "stdout",
     "output_type": "stream",
     "text": [
      "{'nombre': 'Pienso', 'precio': 25.6, 'cantidad': 100}\n",
      "{'nombre': 'Latas', 'precio': 20.99, 'cantidad': 50}\n",
      "{'nombre': 'Arenero', 'precio': 19.99, 'cantidad': 45}\n",
      "{'nombre': 'Juguete', 'precio': 16.55, 'cantidad': 20}\n",
      "{'nombre': 'Chuches', 'precio': 5, 'cantidad': 140}\n"
     ]
    }
   ],
   "source": [
    "tienda_irene.ver_inventario()"
   ]
  },
  {
   "cell_type": "code",
   "execution_count": 23,
   "id": "da73b2df",
   "metadata": {},
   "outputs": [
    {
     "name": "stdout",
     "output_type": "stream",
     "text": [
      "este producto no se encuentra en nuestro inventario\n"
     ]
    }
   ],
   "source": [
    "tienda_irene.buscar_producto('perro')"
   ]
  },
  {
   "cell_type": "code",
   "execution_count": 24,
   "id": "d2d99161",
   "metadata": {},
   "outputs": [
    {
     "data": {
      "text/plain": [
       "{'nombre': 'Latas', 'precio': 20.99, 'cantidad': 59}"
      ]
     },
     "execution_count": 24,
     "metadata": {},
     "output_type": "execute_result"
    }
   ],
   "source": [
    "tienda_irene.actualizar_stock('Latas', 9)\n",
    "tienda_irene.buscar_producto('Latas')"
   ]
  },
  {
   "cell_type": "code",
   "execution_count": 25,
   "id": "46979c2c",
   "metadata": {},
   "outputs": [
    {
     "name": "stdout",
     "output_type": "stream",
     "text": [
      "perro no está en el inventario\n"
     ]
    }
   ],
   "source": [
    "tienda_irene.eliminar_producto('perro')"
   ]
  },
  {
   "cell_type": "code",
   "execution_count": 26,
   "id": "ed9114d6",
   "metadata": {},
   "outputs": [
    {
     "name": "stdout",
     "output_type": "stream",
     "text": [
      "el valor total de nuestro inventario es 5728.96 €\n"
     ]
    }
   ],
   "source": [
    "tienda_irene.calcular_valor_inventario()"
   ]
  },
  {
   "cell_type": "code",
   "execution_count": 27,
   "id": "d4ca4987",
   "metadata": {},
   "outputs": [
    {
     "name": "stdout",
     "output_type": "stream",
     "text": [
      "Cliente 'Irene' agregado correctamente.\n",
      "{'Irene': {'email': 'irene@gmail.com', 'compras': []}}\n"
     ]
    }
   ],
   "source": [
    "tienda_irene.agregar_clientes('Irene', 'irene@gmail.com')"
   ]
  },
  {
   "cell_type": "code",
   "execution_count": 28,
   "id": "5ba08b46",
   "metadata": {},
   "outputs": [
    {
     "data": {
      "text/plain": [
       "'def realizar_compra(self)\\ncarrito = []\\nwhile True:\\n    print(\"Ingrese el nombre del producto que desea comprar o \\'salir\\' para finalizar\\n\"\\n          \"Puede escoger entre estos productos:\")\\n    for producto in self.inventario:\\n        print(producto[\\'nombre\\'])\\n    compra = input()\\n    if compra.lower() == \\'salir\\':\\n        print(carrito)\\n        break\\n    else:\\n        producto_encontrado = tienda_irene.buscar_producto(compra) \\n        if producto_encontrado is True: #aquí el código empieza a fallar\\n            carrito.append(producto)\\n        else: \\n            print(\"este artíclo no está en nuestro inventario\")\\n        print(carrito)\\n    #hay que encontrar la forma de que busque en el inventario\\n    #pedir la cantidad\\n    #sumar el precio total = sum(producto[\\'precio\\']* producto[\\'cantidad\\'] for producto in carrito) -> list comprehension'"
      ]
     },
     "execution_count": 28,
     "metadata": {},
     "output_type": "execute_result"
    }
   ],
   "source": [
    "\"\"\"def realizar_compra(self)\n",
    "carrito = []\n",
    "while True:\n",
    "    print(\"Ingrese el nombre del producto que desea comprar o 'salir' para finalizar\\n\"\n",
    "          \"Puede escoger entre estos productos:\")\n",
    "    for producto in self.inventario:\n",
    "        print(producto['nombre'])\n",
    "    compra = input()\n",
    "    if compra.lower() == 'salir':\n",
    "        print(carrito)\n",
    "        break\n",
    "    else:\n",
    "        producto_encontrado = tienda_irene.buscar_producto(compra) \n",
    "        if producto_encontrado is True: #aquí el código empieza a fallar\n",
    "            carrito.append(producto)\n",
    "        else: \n",
    "            print(\"este artíclo no está en nuestro inventario\")\n",
    "        print(carrito)\n",
    "    #hay que encontrar la forma de que busque en el inventario\n",
    "    #pedir la cantidad\n",
    "    #sumar el precio total = sum(producto['precio']* producto['cantidad'] for producto in carrito) -> list comprehension\"\"\""
   ]
  },
  {
   "cell_type": "code",
   "execution_count": 29,
   "id": "19893f4e",
   "metadata": {},
   "outputs": [
    {
     "name": "stdout",
     "output_type": "stream",
     "text": [
      "Compra realizada con éxito, su cambio es: 0.01\n"
     ]
    }
   ],
   "source": [
    "tienda_irene.procesar_pago()"
   ]
  }
 ],
 "metadata": {
  "kernelspec": {
   "display_name": "base",
   "language": "python",
   "name": "python3"
  },
  "language_info": {
   "codemirror_mode": {
    "name": "ipython",
    "version": 3
   },
   "file_extension": ".py",
   "mimetype": "text/x-python",
   "name": "python",
   "nbconvert_exporter": "python",
   "pygments_lexer": "ipython3",
   "version": "3.12.7"
  }
 },
 "nbformat": 4,
 "nbformat_minor": 5
}
