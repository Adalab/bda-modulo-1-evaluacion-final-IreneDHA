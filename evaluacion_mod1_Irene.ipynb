{
 "cells": [
  {
   "cell_type": "code",
   "execution_count": 109,
   "id": "3801e411",
   "metadata": {},
   "outputs": [],
   "source": [
    "class TiendaOnline:\n",
    "    def __init__ (self):\n",
    "        self.inventario = []\n",
    "        self.ventas_totales = float(0)\n",
    "    \n",
    "    def agregar_producto(self, nombre, precio, cantidad):\n",
    "        for producto in self.inventario: #este bucle irá elemento a elemento iterando por la lista y no parará hasta que llegue al final\n",
    "            if producto['nombre'] == nombre:\n",
    "                producto['cantidad'] += cantidad\n",
    "                nueva_cantidad = producto['cantidad']\n",
    "                return(f\"el producto {nombre} ya estaba en el inventario, se actualizó la cantidad a {nueva_cantidad}\")\n",
    "        self.inventario.append({'nombre': nombre, 'precio': precio, 'cantidad': cantidad}) \n",
    "        #tiene que ir fuera del for porque sino cada vez que se encontrase un elemento que no tenga el mismo nombre, insertaría el nuevo elemento.\n",
    "        #por ejemplo: inventario = bolso y camisa / nuevo producto = pantalón/ bolso=pantalón - no - añado pantalon - camisa=pantalon - no - añado pantalón - terminamos con 2 pantalones repetidos. \n",
    "        #si va fuera no pasa eso\n",
    "        return (self.inventario)\n",
    "    \n",
    "    def ver_inventario(self):\n",
    "        for producto in self.inventario:\n",
    "            print(producto)\n",
    "            #cuando pueda volver a esta para ver cómo cambiarle el formato a como dice el ejercicio que debería verse\n"
   ]
  },
  {
   "cell_type": "code",
   "execution_count": 110,
   "id": "c098901d",
   "metadata": {},
   "outputs": [],
   "source": [
    "tienda_irene = TiendaOnline()"
   ]
  },
  {
   "cell_type": "code",
   "execution_count": 111,
   "id": "bbd72757",
   "metadata": {},
   "outputs": [
    {
     "data": {
      "text/plain": [
       "[{'nombre': 'Pienso', 'precio': 25.6, 'cantidad': 100},\n",
       " {'nombre': 'Latas', 'precio': 20.99, 'cantidad': 50},\n",
       " {'nombre': 'Arenero', 'precio': 19.99, 'cantidad': 45},\n",
       " {'nombre': 'Juguete', 'precio': 16.55, 'cantidad': 20},\n",
       " {'nombre': 'Chuches', 'precio': 5, 'cantidad': 120}]"
      ]
     },
     "execution_count": 111,
     "metadata": {},
     "output_type": "execute_result"
    }
   ],
   "source": [
    "tienda_irene.agregar_producto('Pienso', 25.6, 100)\n",
    "tienda_irene.agregar_producto('Latas', 20.99, 50)\n",
    "tienda_irene.agregar_producto('Arenero', 19.99, 45)\n",
    "tienda_irene.agregar_producto('Juguete', 16.55, 20)\n",
    "tienda_irene.agregar_producto('Chuches', 5, 120)"
   ]
  },
  {
   "cell_type": "code",
   "execution_count": 112,
   "id": "3831ad6c",
   "metadata": {},
   "outputs": [
    {
     "data": {
      "text/plain": [
       "'el producto Chuches ya estaba en el inventario, se actualizó la cantidad a 140'"
      ]
     },
     "execution_count": 112,
     "metadata": {},
     "output_type": "execute_result"
    }
   ],
   "source": [
    "tienda_irene.agregar_producto('Chuches', 5, 20)"
   ]
  },
  {
   "cell_type": "code",
   "execution_count": 113,
   "id": "7cdad0b0",
   "metadata": {},
   "outputs": [
    {
     "name": "stdout",
     "output_type": "stream",
     "text": [
      "{'nombre': 'Pienso', 'precio': 25.6, 'cantidad': 100}\n",
      "{'nombre': 'Latas', 'precio': 20.99, 'cantidad': 50}\n",
      "{'nombre': 'Arenero', 'precio': 19.99, 'cantidad': 45}\n",
      "{'nombre': 'Juguete', 'precio': 16.55, 'cantidad': 20}\n",
      "{'nombre': 'Chuches', 'precio': 5, 'cantidad': 140}\n"
     ]
    }
   ],
   "source": [
    "tienda_irene.ver_inventario()"
   ]
  }
 ],
 "metadata": {
  "kernelspec": {
   "display_name": "base",
   "language": "python",
   "name": "python3"
  },
  "language_info": {
   "codemirror_mode": {
    "name": "ipython",
    "version": 3
   },
   "file_extension": ".py",
   "mimetype": "text/x-python",
   "name": "python",
   "nbconvert_exporter": "python",
   "pygments_lexer": "ipython3",
   "version": "3.12.7"
  }
 },
 "nbformat": 4,
 "nbformat_minor": 5
}
