{
 "cells": [
  {
   "cell_type": "code",
   "execution_count": 62,
   "id": "3801e411",
   "metadata": {},
   "outputs": [],
   "source": [
    "class TiendaOnline:\n",
    "    def __init__ (self):\n",
    "        self.inventario = []\n",
    "        self.ventas_totales = float(0)\n",
    "    \n",
    "    def agregar_producto(self, nombre, precio, cantidad):\n",
    "        for producto in self.inventario: #este bucle irá elemento a elemento iterando por la lista y no parará hasta que llegue al final\n",
    "            if producto['nombre'] == nombre:\n",
    "                producto['cantidad'] += cantidad\n",
    "                nueva_cantidad = producto['cantidad']\n",
    "                return(f\"el producto {nombre} ya estaba en el inventario, se actualizó la cantidad a {nueva_cantidad}\")\n",
    "        self.inventario.append({'nombre': nombre, 'precio': precio, 'cantidad': cantidad}) \n",
    "        #tiene que ir fuera del for porque sino cada vez que se encontrase un elemento que no tenga el mismo nombre, insertaría el nuevo elemento.\n",
    "        #por ejemplo: inventario = bolso y camisa / nuevo producto = pantalón/ bolso=pantalón - no - añado pantalon - camisa=pantalon - no - añado pantalón - terminamos con 2 pantalones repetidos. \n",
    "        #si va fuera no pasa eso\n",
    "        return (self.inventario)"
   ]
  },
  {
   "cell_type": "code",
   "execution_count": 63,
   "id": "c098901d",
   "metadata": {},
   "outputs": [],
   "source": [
    "tienda_irene = TiendaOnline()"
   ]
  },
  {
   "cell_type": "code",
   "execution_count": 64,
   "id": "bbd72757",
   "metadata": {},
   "outputs": [
    {
     "data": {
      "text/plain": [
       "[{'nombre': 'Bolso', 'precio': 10, 'cantidad': 50}]"
      ]
     },
     "execution_count": 64,
     "metadata": {},
     "output_type": "execute_result"
    }
   ],
   "source": [
    "tienda_irene.agregar_producto('Bolso', 10, 50)"
   ]
  },
  {
   "cell_type": "code",
   "execution_count": 65,
   "id": "3831ad6c",
   "metadata": {},
   "outputs": [
    {
     "data": {
      "text/plain": [
       "'el producto Bolso ya estaba en el inventario, se actualizó la cantidad a 100'"
      ]
     },
     "execution_count": 65,
     "metadata": {},
     "output_type": "execute_result"
    }
   ],
   "source": [
    "tienda_irene.agregar_producto('Bolso', 20, 50)"
   ]
  }
 ],
 "metadata": {
  "kernelspec": {
   "display_name": "base",
   "language": "python",
   "name": "python3"
  },
  "language_info": {
   "codemirror_mode": {
    "name": "ipython",
    "version": 3
   },
   "file_extension": ".py",
   "mimetype": "text/x-python",
   "name": "python",
   "nbconvert_exporter": "python",
   "pygments_lexer": "ipython3",
   "version": "3.12.7"
  }
 },
 "nbformat": 4,
 "nbformat_minor": 5
}
