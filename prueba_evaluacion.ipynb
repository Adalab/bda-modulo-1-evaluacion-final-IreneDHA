{
 "cells": [
  {
   "cell_type": "code",
   "execution_count": 56,
   "id": "ffeb9be0",
   "metadata": {},
   "outputs": [],
   "source": [
    "inventario = [{'nombre': 'Pienso', 'precio': 25.6, 'cantidad': 100},\n",
    "{'nombre': 'Latas', 'precio': 20.99, 'cantidad': 50},\n",
    "{'nombre': 'Arenero', 'precio': 19.99, 'cantidad': 45},\n",
    "{'nombre': 'Juguete', 'precio': 16.55, 'cantidad': 20},\n",
    "{'nombre': 'Chuches', 'precio': 5, 'cantidad': 120}]"
   ]
  },
  {
   "cell_type": "code",
   "execution_count": 57,
   "id": "0d30415d",
   "metadata": {},
   "outputs": [
    {
     "name": "stdout",
     "output_type": "stream",
     "text": [
      "<class 'float'>\n",
      "4\n",
      "<class 'int'>\n"
     ]
    }
   ],
   "source": [
    "print(type(inventario[1]['precio']))\n",
    "print(inventario.index({'nombre': 'Chuches', 'precio': 5, 'cantidad': 120}))\n",
    "print(type(inventario[4]['precio']))"
   ]
  },
  {
   "cell_type": "code",
   "execution_count": 58,
   "id": "7671b388",
   "metadata": {},
   "outputs": [],
   "source": [
    "\n",
    "def agregar_producto(nombre, precio, cantidad):\n",
    "    for producto in inventario:\n",
    "        if producto['nombre'] == nombre:\n",
    "            producto['cantidad'] += cantidad\n",
    "            nueva_cantidad = producto['cantidad']\n",
    "            return f\"El producto {nombre} ya estaba en el inventario, se actualizó la cantidad a {nueva_cantidad}\", inventario\n",
    "    inventario.append({'nombre': nombre, 'precio': precio, 'cantidad': cantidad})\n",
    "    return f\"Producto {nombre} agregado al inventario\", inventario"
   ]
  },
  {
   "cell_type": "code",
   "execution_count": 59,
   "id": "524fde12",
   "metadata": {},
   "outputs": [
    {
     "name": "stdout",
     "output_type": "stream",
     "text": [
      "('Producto Correa agregado al inventario', [{'nombre': 'Pienso', 'precio': 25.6, 'cantidad': 100}, {'nombre': 'Latas', 'precio': 20.99, 'cantidad': 50}, {'nombre': 'Arenero', 'precio': 19.99, 'cantidad': 45}, {'nombre': 'Juguete', 'precio': 16.55, 'cantidad': 20}, {'nombre': 'Chuches', 'precio': 5, 'cantidad': 120}, {'nombre': 'Correa', 'precio': 8, 'cantidad': 10}])\n"
     ]
    }
   ],
   "source": [
    "print(agregar_producto('Correa',8, 10))"
   ]
  },
  {
   "cell_type": "code",
   "execution_count": 60,
   "id": "a12ae359",
   "metadata": {},
   "outputs": [
    {
     "name": "stdout",
     "output_type": "stream",
     "text": [
      "('El producto Pienso ya estaba en el inventario, se actualizó la cantidad a 150', [{'nombre': 'Pienso', 'precio': 25.6, 'cantidad': 150}, {'nombre': 'Latas', 'precio': 20.99, 'cantidad': 50}, {'nombre': 'Arenero', 'precio': 19.99, 'cantidad': 45}, {'nombre': 'Juguete', 'precio': 16.55, 'cantidad': 20}, {'nombre': 'Chuches', 'precio': 5, 'cantidad': 120}, {'nombre': 'Correa', 'precio': 8, 'cantidad': 10}])\n"
     ]
    }
   ],
   "source": [
    "print(agregar_producto('Pienso',25.6, 50))"
   ]
  },
  {
   "cell_type": "code",
   "execution_count": 61,
   "id": "35f247ff",
   "metadata": {},
   "outputs": [],
   "source": [
    "def ver_inventario():\n",
    "    for elemento in inventario:\n",
    "        print(elemento)"
   ]
  },
  {
   "cell_type": "code",
   "execution_count": 62,
   "id": "87c89901",
   "metadata": {},
   "outputs": [
    {
     "name": "stdout",
     "output_type": "stream",
     "text": [
      "{'nombre': 'Pienso', 'precio': 25.6, 'cantidad': 150}\n",
      "{'nombre': 'Latas', 'precio': 20.99, 'cantidad': 50}\n",
      "{'nombre': 'Arenero', 'precio': 19.99, 'cantidad': 45}\n",
      "{'nombre': 'Juguete', 'precio': 16.55, 'cantidad': 20}\n",
      "{'nombre': 'Chuches', 'precio': 5, 'cantidad': 120}\n",
      "{'nombre': 'Correa', 'precio': 8, 'cantidad': 10}\n"
     ]
    }
   ],
   "source": [
    "ver_inventario()"
   ]
  },
  {
   "cell_type": "code",
   "execution_count": 63,
   "id": "c1b48998",
   "metadata": {},
   "outputs": [],
   "source": [
    "def buscar_producto(nombre):\n",
    "    for producto in inventario:\n",
    "        if nombre == producto['nombre']:\n",
    "            return(producto)\n",
    "    print(\"este producto no se encuentra en nuestro inventario\")\n"
   ]
  },
  {
   "cell_type": "code",
   "execution_count": 64,
   "id": "84f0b612",
   "metadata": {},
   "outputs": [
    {
     "data": {
      "text/plain": [
       "{'nombre': 'Latas', 'precio': 20.99, 'cantidad': 50}"
      ]
     },
     "execution_count": 64,
     "metadata": {},
     "output_type": "execute_result"
    }
   ],
   "source": [
    "buscar_producto('Latas')"
   ]
  },
  {
   "cell_type": "code",
   "execution_count": 65,
   "id": "cadd192e",
   "metadata": {},
   "outputs": [],
   "source": [
    "def actualizar_stock(nombre, cantidad):\n",
    "    for producto in inventario:\n",
    "        if producto['nombre'] == nombre:\n",
    "            producto['cantidad'] += cantidad\n",
    "            nueva_cantidad = producto['cantidad']\n",
    "            return(f\"se ha modificado el stock, ahora tenemos {nueva_cantidad} {nombre}\")\n",
    "#Hay que volver a crear la variable 'nueva_cantidad' porque solo existe dentro de cada función\n",
    "    print('este producto no está en nuestro inventario')\n",
    "            "
   ]
  },
  {
   "cell_type": "code",
   "execution_count": 66,
   "id": "546ae955",
   "metadata": {},
   "outputs": [
    {
     "data": {
      "text/plain": [
       "'se ha modificado el stock, ahora tenemos 59 Latas'"
      ]
     },
     "execution_count": 66,
     "metadata": {},
     "output_type": "execute_result"
    }
   ],
   "source": [
    "actualizar_stock('Latas', 9)"
   ]
  },
  {
   "cell_type": "code",
   "execution_count": 67,
   "id": "d2c41810",
   "metadata": {},
   "outputs": [],
   "source": [
    "def eliminar_producto(nombre):\n",
    "    for producto in inventario:\n",
    "        if producto[\"nombre\"] == nombre:\n",
    "            inventario.remove(producto)\n",
    "            print(f\"{nombre}, se ha eliminado del inventario con todas sus características: {producto}\")\n",
    "            return\n",
    "        \n",
    "    print(nombre, \"no está en el inventario\")\n",
    "        \n"
   ]
  },
  {
   "cell_type": "code",
   "execution_count": 68,
   "id": "106138b6",
   "metadata": {},
   "outputs": [
    {
     "name": "stdout",
     "output_type": "stream",
     "text": [
      "perro no está en el inventario\n"
     ]
    }
   ],
   "source": [
    "eliminar_producto(\"perro\")"
   ]
  },
  {
   "cell_type": "code",
   "execution_count": 69,
   "id": "62e78495",
   "metadata": {},
   "outputs": [
    {
     "data": {
      "text/plain": [
       "[{'nombre': 'Pienso', 'precio': 25.6, 'cantidad': 150},\n",
       " {'nombre': 'Latas', 'precio': 20.99, 'cantidad': 59},\n",
       " {'nombre': 'Arenero', 'precio': 19.99, 'cantidad': 45},\n",
       " {'nombre': 'Juguete', 'precio': 16.55, 'cantidad': 20},\n",
       " {'nombre': 'Chuches', 'precio': 5, 'cantidad': 120},\n",
       " {'nombre': 'Correa', 'precio': 8, 'cantidad': 10}]"
      ]
     },
     "execution_count": 69,
     "metadata": {},
     "output_type": "execute_result"
    }
   ],
   "source": [
    "inventario"
   ]
  },
  {
   "cell_type": "code",
   "execution_count": 70,
   "id": "1e6b0a63",
   "metadata": {},
   "outputs": [
    {
     "data": {
      "text/plain": [
       "('El producto Latas ya estaba en el inventario, se actualizó la cantidad a 109',\n",
       " [{'nombre': 'Pienso', 'precio': 25.6, 'cantidad': 150},\n",
       "  {'nombre': 'Latas', 'precio': 20.99, 'cantidad': 109},\n",
       "  {'nombre': 'Arenero', 'precio': 19.99, 'cantidad': 45},\n",
       "  {'nombre': 'Juguete', 'precio': 16.55, 'cantidad': 20},\n",
       "  {'nombre': 'Chuches', 'precio': 5, 'cantidad': 120},\n",
       "  {'nombre': 'Correa', 'precio': 8, 'cantidad': 10}])"
      ]
     },
     "execution_count": 70,
     "metadata": {},
     "output_type": "execute_result"
    }
   ],
   "source": [
    "agregar_producto('Latas', 20.99, 50)"
   ]
  },
  {
   "cell_type": "code",
   "execution_count": null,
   "id": "41b8b954",
   "metadata": {},
   "outputs": [],
   "source": [
    "def calcular_valor_inventario():\n",
    "    valor_total = []\n",
    "    for producto in inventario:\n",
    "        valor_producto = producto['precio']*producto['cantidad']\n",
    "        print(f'el valor total del producto {producto} es {valor_producto}€')\n",
    "        valor_total.append(valor_producto)\n",
    "    #for valor_producto in inventario: si podemos otro bucle así \n",
    "    #no está iterando por la nueva avriable valor_total, sino por el inventario, \n",
    "    # por lo que está sobreescribiendo continuamente los valores y además se añaden también claves del diccionario\n",
    "        valor_total += valor_producto\n",
    "        print(valor_total)\n"
   ]
  },
  {
   "cell_type": "code",
   "execution_count": 80,
   "id": "594f294c",
   "metadata": {},
   "outputs": [
    {
     "name": "stdout",
     "output_type": "stream",
     "text": [
      "el valor total del producto {'nombre': 'Pienso', 'precio': 25.6, 'cantidad': 150} es 3840.0€\n",
      "el valor total del producto {'nombre': 'Latas', 'precio': 20.99, 'cantidad': 109} es 2287.91€\n",
      "el valor total del producto {'nombre': 'Arenero', 'precio': 19.99, 'cantidad': 45} es 899.55€\n",
      "el valor total del producto {'nombre': 'Juguete', 'precio': 16.55, 'cantidad': 20} es 331.0€\n",
      "el valor total del producto {'nombre': 'Chuches', 'precio': 5, 'cantidad': 120} es 600€\n",
      "el valor total del producto {'nombre': 'Correa', 'precio': 8, 'cantidad': 10} es 80€\n",
      "[3840.0, 2287.91, 899.55, 331.0, 600, 80, 'nombre', 'precio', 'cantidad']\n",
      "[3840.0, 2287.91, 899.55, 331.0, 600, 80, 'nombre', 'precio', 'cantidad', 'nombre', 'precio', 'cantidad']\n",
      "[3840.0, 2287.91, 899.55, 331.0, 600, 80, 'nombre', 'precio', 'cantidad', 'nombre', 'precio', 'cantidad', 'nombre', 'precio', 'cantidad']\n",
      "[3840.0, 2287.91, 899.55, 331.0, 600, 80, 'nombre', 'precio', 'cantidad', 'nombre', 'precio', 'cantidad', 'nombre', 'precio', 'cantidad', 'nombre', 'precio', 'cantidad']\n",
      "[3840.0, 2287.91, 899.55, 331.0, 600, 80, 'nombre', 'precio', 'cantidad', 'nombre', 'precio', 'cantidad', 'nombre', 'precio', 'cantidad', 'nombre', 'precio', 'cantidad', 'nombre', 'precio', 'cantidad']\n",
      "[3840.0, 2287.91, 899.55, 331.0, 600, 80, 'nombre', 'precio', 'cantidad', 'nombre', 'precio', 'cantidad', 'nombre', 'precio', 'cantidad', 'nombre', 'precio', 'cantidad', 'nombre', 'precio', 'cantidad', 'nombre', 'precio', 'cantidad']\n"
     ]
    }
   ],
   "source": [
    "calcular_valor_inventario()"
   ]
  },
  {
   "cell_type": "code",
   "execution_count": null,
   "id": "8d9a5006",
   "metadata": {},
   "outputs": [],
   "source": [
    "def calcular_valor_inventario():\n",
    "    for producto in inventario:\n",
    "        valor_producto = producto['precio']*producto['cantidad']\n",
    "        print(f'el valor total del producto {producto} es {valor_producto}€')"
   ]
  },
  {
   "cell_type": "code",
   "execution_count": 85,
   "id": "8f3e45cf",
   "metadata": {},
   "outputs": [],
   "source": [
    "def calcular_valor_inventario():\n",
    "    valor_total = []\n",
    "    for producto in inventario:\n",
    "        valor_producto = producto['precio']*producto['cantidad']\n",
    "        print(f'el valor total del producto {producto} es {valor_producto}€')\n",
    "        valor_total.append(valor_producto)\n",
    "        print(valor_total)\n"
   ]
  },
  {
   "cell_type": "code",
   "execution_count": 86,
   "id": "39741519",
   "metadata": {},
   "outputs": [
    {
     "name": "stdout",
     "output_type": "stream",
     "text": [
      "el valor total del producto {'nombre': 'Pienso', 'precio': 25.6, 'cantidad': 150} es 3840.0€\n",
      "[3840.0]\n",
      "el valor total del producto {'nombre': 'Latas', 'precio': 20.99, 'cantidad': 109} es 2287.91€\n",
      "[3840.0, 2287.91]\n",
      "el valor total del producto {'nombre': 'Arenero', 'precio': 19.99, 'cantidad': 45} es 899.55€\n",
      "[3840.0, 2287.91, 899.55]\n",
      "el valor total del producto {'nombre': 'Juguete', 'precio': 16.55, 'cantidad': 20} es 331.0€\n",
      "[3840.0, 2287.91, 899.55, 331.0]\n",
      "el valor total del producto {'nombre': 'Chuches', 'precio': 5, 'cantidad': 120} es 600€\n",
      "[3840.0, 2287.91, 899.55, 331.0, 600]\n",
      "el valor total del producto {'nombre': 'Correa', 'precio': 8, 'cantidad': 10} es 80€\n",
      "[3840.0, 2287.91, 899.55, 331.0, 600, 80]\n"
     ]
    }
   ],
   "source": [
    "calcular_valor_inventario()"
   ]
  },
  {
   "cell_type": "code",
   "execution_count": 87,
   "id": "736a2607",
   "metadata": {},
   "outputs": [],
   "source": [
    "def calcular_valor_inventario():\n",
    "    valor_total = []\n",
    "    for producto in inventario:\n",
    "        valor_producto = producto['precio']*producto['cantidad']\n",
    "        print(f'el valor total del producto {producto} es {valor_producto}€')\n",
    "        valor_total.append(valor_producto)\n",
    "        print(valor_total)\n",
    "        valor_total = sum(valor_total)\n",
    "        print(valor_total)"
   ]
  },
  {
   "cell_type": "markdown",
   "id": "be1900ad",
   "metadata": {},
   "source": [
    "Primero: valor_total = [] → es una lista vacía.\n",
    "\n",
    "Luego: valor_total.append(...) → esto funciona, porque las listas tienen el método append().\n",
    "\n",
    "Después: valor_total = sum(valor_total)\n",
    "Aquí estás sobrescribiendo la variable valor_total con un número (float), resultado de la suma.\n",
    "\n",
    "Entonces, en la siguiente vuelta del bucle, haces:\n",
    "valor_total.append(...)\n",
    "pero ya no es una lista, ¡es un número!\n",
    "Y los números (float) no tienen el método append(), de ahí el error:"
   ]
  },
  {
   "cell_type": "code",
   "execution_count": 88,
   "id": "cf918b33",
   "metadata": {},
   "outputs": [
    {
     "name": "stdout",
     "output_type": "stream",
     "text": [
      "el valor total del producto {'nombre': 'Pienso', 'precio': 25.6, 'cantidad': 150} es 3840.0€\n",
      "[3840.0]\n",
      "3840.0\n",
      "el valor total del producto {'nombre': 'Latas', 'precio': 20.99, 'cantidad': 109} es 2287.91€\n"
     ]
    },
    {
     "ename": "AttributeError",
     "evalue": "'float' object has no attribute 'append'",
     "output_type": "error",
     "traceback": [
      "\u001b[1;31m---------------------------------------------------------------------------\u001b[0m",
      "\u001b[1;31mAttributeError\u001b[0m                            Traceback (most recent call last)",
      "Cell \u001b[1;32mIn[88], line 1\u001b[0m\n\u001b[1;32m----> 1\u001b[0m calcular_valor_inventario()\n",
      "Cell \u001b[1;32mIn[87], line 6\u001b[0m, in \u001b[0;36mcalcular_valor_inventario\u001b[1;34m()\u001b[0m\n\u001b[0;32m      4\u001b[0m valor_producto \u001b[38;5;241m=\u001b[39m producto[\u001b[38;5;124m'\u001b[39m\u001b[38;5;124mprecio\u001b[39m\u001b[38;5;124m'\u001b[39m]\u001b[38;5;241m*\u001b[39mproducto[\u001b[38;5;124m'\u001b[39m\u001b[38;5;124mcantidad\u001b[39m\u001b[38;5;124m'\u001b[39m]\n\u001b[0;32m      5\u001b[0m \u001b[38;5;28mprint\u001b[39m(\u001b[38;5;124mf\u001b[39m\u001b[38;5;124m'\u001b[39m\u001b[38;5;124mel valor total del producto \u001b[39m\u001b[38;5;132;01m{\u001b[39;00mproducto\u001b[38;5;132;01m}\u001b[39;00m\u001b[38;5;124m es \u001b[39m\u001b[38;5;132;01m{\u001b[39;00mvalor_producto\u001b[38;5;132;01m}\u001b[39;00m\u001b[38;5;124m€\u001b[39m\u001b[38;5;124m'\u001b[39m)\n\u001b[1;32m----> 6\u001b[0m valor_total\u001b[38;5;241m.\u001b[39mappend(valor_producto)\n\u001b[0;32m      7\u001b[0m \u001b[38;5;28mprint\u001b[39m(valor_total)\n\u001b[0;32m      8\u001b[0m valor_total \u001b[38;5;241m=\u001b[39m \u001b[38;5;28msum\u001b[39m(valor_total)\n",
      "\u001b[1;31mAttributeError\u001b[0m: 'float' object has no attribute 'append'"
     ]
    }
   ],
   "source": [
    "calcular_valor_inventario()"
   ]
  },
  {
   "cell_type": "code",
   "execution_count": 89,
   "id": "f4a32b69",
   "metadata": {},
   "outputs": [],
   "source": [
    "def calcular_valor_inventario():\n",
    "    valor_total = []\n",
    "    for producto in inventario:\n",
    "        valor_producto = producto['precio']*producto['cantidad']\n",
    "        print(f'el valor total del producto {producto} es {valor_producto}€')\n",
    "        valor_total.append(valor_producto)\n",
    "        print(valor_total)\n",
    "        total_valor_inventario = sum(valor_total)\n",
    "        print(total_valor_inventario)"
   ]
  },
  {
   "cell_type": "code",
   "execution_count": 90,
   "id": "5868280a",
   "metadata": {},
   "outputs": [
    {
     "name": "stdout",
     "output_type": "stream",
     "text": [
      "el valor total del producto {'nombre': 'Pienso', 'precio': 25.6, 'cantidad': 150} es 3840.0€\n",
      "[3840.0]\n",
      "3840.0\n",
      "el valor total del producto {'nombre': 'Latas', 'precio': 20.99, 'cantidad': 109} es 2287.91€\n",
      "[3840.0, 2287.91]\n",
      "6127.91\n",
      "el valor total del producto {'nombre': 'Arenero', 'precio': 19.99, 'cantidad': 45} es 899.55€\n",
      "[3840.0, 2287.91, 899.55]\n",
      "7027.46\n",
      "el valor total del producto {'nombre': 'Juguete', 'precio': 16.55, 'cantidad': 20} es 331.0€\n",
      "[3840.0, 2287.91, 899.55, 331.0]\n",
      "7358.46\n",
      "el valor total del producto {'nombre': 'Chuches', 'precio': 5, 'cantidad': 120} es 600€\n",
      "[3840.0, 2287.91, 899.55, 331.0, 600]\n",
      "7958.46\n",
      "el valor total del producto {'nombre': 'Correa', 'precio': 8, 'cantidad': 10} es 80€\n",
      "[3840.0, 2287.91, 899.55, 331.0, 600, 80]\n",
      "8038.46\n"
     ]
    }
   ],
   "source": [
    "calcular_valor_inventario()"
   ]
  }
 ],
 "metadata": {
  "kernelspec": {
   "display_name": "base",
   "language": "python",
   "name": "python3"
  },
  "language_info": {
   "codemirror_mode": {
    "name": "ipython",
    "version": 3
   },
   "file_extension": ".py",
   "mimetype": "text/x-python",
   "name": "python",
   "nbconvert_exporter": "python",
   "pygments_lexer": "ipython3",
   "version": "3.12.7"
  }
 },
 "nbformat": 4,
 "nbformat_minor": 5
}
