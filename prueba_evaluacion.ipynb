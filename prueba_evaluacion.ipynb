{
 "cells": [
  {
   "cell_type": "code",
   "execution_count": 71,
   "id": "ffeb9be0",
   "metadata": {},
   "outputs": [],
   "source": [
    "inventario = [{'nombre': 'Pienso', 'precio': 25.6, 'cantidad': 100},\n",
    "{'nombre': 'Latas', 'precio': 20.99, 'cantidad': 50},\n",
    "{'nombre': 'Arenero', 'precio': 19.99, 'cantidad': 45},\n",
    "{'nombre': 'Juguete', 'precio': 16.55, 'cantidad': 20},\n",
    "{'nombre': 'Chuches', 'precio': 5, 'cantidad': 120}]"
   ]
  },
  {
   "cell_type": "code",
   "execution_count": 33,
   "id": "7671b388",
   "metadata": {},
   "outputs": [],
   "source": [
    "\n",
    "def agregar_producto(nombre, precio, cantidad):\n",
    "    for producto in inventario:\n",
    "        if producto['nombre'] == nombre:\n",
    "            producto['cantidad'] += cantidad\n",
    "            nueva_cantidad = producto['cantidad']\n",
    "            return f\"El producto {nombre} ya estaba en el inventario, se actualizó la cantidad a {nueva_cantidad}\", inventario\n",
    "    inventario.append({'nombre': nombre, 'precio': precio, 'cantidad': cantidad})\n",
    "    return f\"Producto {nombre} agregado al inventario\", inventario"
   ]
  },
  {
   "cell_type": "code",
   "execution_count": 34,
   "id": "524fde12",
   "metadata": {},
   "outputs": [
    {
     "name": "stdout",
     "output_type": "stream",
     "text": [
      "('El producto Camisa ya estaba en el inventario, se actualizó la cantidad a 50', [{'nombre': 'Camisa', 'precio': 20, 'cantidad': 50}, {'nombre': 'Pantalón', 'precio': 30, 'cantidad': 30}])\n"
     ]
    }
   ],
   "source": [
    "print(agregar_producto('Camisa',20, 10))"
   ]
  },
  {
   "cell_type": "code",
   "execution_count": 35,
   "id": "a12ae359",
   "metadata": {},
   "outputs": [
    {
     "name": "stdout",
     "output_type": "stream",
     "text": [
      "('Producto Bolso agregado al inventario', [{'nombre': 'Camisa', 'precio': 20, 'cantidad': 50}, {'nombre': 'Pantalón', 'precio': 30, 'cantidad': 30}, {'nombre': 'Bolso', 'precio': 10, 'cantidad': 50}])\n"
     ]
    }
   ],
   "source": [
    "print(agregar_producto('Bolso',10, 50))"
   ]
  },
  {
   "cell_type": "code",
   "execution_count": 49,
   "id": "35f247ff",
   "metadata": {},
   "outputs": [],
   "source": [
    "def ver_inventario():\n",
    "    for elemento in inventario:\n",
    "        print(elemento)"
   ]
  },
  {
   "cell_type": "code",
   "execution_count": 63,
   "id": "87c89901",
   "metadata": {},
   "outputs": [
    {
     "name": "stdout",
     "output_type": "stream",
     "text": [
      "{'nombre': 'Pienso para gatos 2kg', 'precio': 25.6, 'cantidad': 100}\n",
      "{'nombre': 'Pienso para perros 2kg', 'precio': 20.99, 'cantidad': 50}\n",
      "{'nombre': 'Comida de párajos', 'precio': 19.99, 'cantidad': 45}\n",
      "{'nombre': 'Heno 2kg', 'precio': 16.55, 'cantidad': 20}\n",
      "{'nombre': 'Chuches para gatos', 'precio': 5, 'cantidad': 120}\n"
     ]
    }
   ],
   "source": [
    "ver_inventario()"
   ]
  },
  {
   "cell_type": "code",
   "execution_count": 68,
   "id": "c1b48998",
   "metadata": {},
   "outputs": [],
   "source": [
    "def buscar_producto(nombre):\n",
    "    for producto in inventario:\n",
    "        if nombre == producto['nombre']:\n",
    "            return(producto)\n",
    "    print(\"este producto no se encuentra en nuestro inventario\")\n"
   ]
  },
  {
   "cell_type": "code",
   "execution_count": 69,
   "id": "84f0b612",
   "metadata": {},
   "outputs": [
    {
     "name": "stdout",
     "output_type": "stream",
     "text": [
      "este producto no se encuentra en nuestro inventario\n"
     ]
    }
   ],
   "source": [
    "buscar_producto('Chuches para perros')"
   ]
  }
 ],
 "metadata": {
  "kernelspec": {
   "display_name": "base",
   "language": "python",
   "name": "python3"
  },
  "language_info": {
   "codemirror_mode": {
    "name": "ipython",
    "version": 3
   },
   "file_extension": ".py",
   "mimetype": "text/x-python",
   "name": "python",
   "nbconvert_exporter": "python",
   "pygments_lexer": "ipython3",
   "version": "3.12.7"
  }
 },
 "nbformat": 4,
 "nbformat_minor": 5
}
