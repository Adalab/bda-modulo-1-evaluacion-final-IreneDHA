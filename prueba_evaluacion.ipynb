{
 "cells": [
  {
   "cell_type": "code",
   "execution_count": 135,
   "id": "ffeb9be0",
   "metadata": {},
   "outputs": [],
   "source": [
    "inventario = [{'nombre': 'Pienso', 'precio': 25.6, 'cantidad': 100},\n",
    "{'nombre': 'Latas', 'precio': 20.99, 'cantidad': 50},\n",
    "{'nombre': 'Arenero', 'precio': 19.99, 'cantidad': 45},\n",
    "{'nombre': 'Juguete', 'precio': 16.55, 'cantidad': 20},\n",
    "{'nombre': 'Chuches', 'precio': 5, 'cantidad': 120}]"
   ]
  },
  {
   "cell_type": "code",
   "execution_count": 136,
   "id": "0d30415d",
   "metadata": {},
   "outputs": [
    {
     "name": "stdout",
     "output_type": "stream",
     "text": [
      "<class 'float'>\n",
      "4\n",
      "<class 'int'>\n"
     ]
    }
   ],
   "source": [
    "print(type(inventario[1]['precio']))\n",
    "print(inventario.index({'nombre': 'Chuches', 'precio': 5, 'cantidad': 120}))\n",
    "print(type(inventario[4]['precio']))"
   ]
  },
  {
   "cell_type": "code",
   "execution_count": 137,
   "id": "7671b388",
   "metadata": {},
   "outputs": [],
   "source": [
    "\n",
    "def agregar_producto(nombre, precio, cantidad):\n",
    "    for producto in inventario:\n",
    "        if producto['nombre'] == nombre:\n",
    "            producto['cantidad'] += cantidad\n",
    "            nueva_cantidad = producto['cantidad']\n",
    "            return f\"El producto {nombre} ya estaba en el inventario, se actualizó la cantidad a {nueva_cantidad}\", inventario\n",
    "    inventario.append({'nombre': nombre, 'precio': precio, 'cantidad': cantidad})\n",
    "    return f\"Producto {nombre} agregado al inventario\", inventario"
   ]
  },
  {
   "cell_type": "code",
   "execution_count": 138,
   "id": "524fde12",
   "metadata": {},
   "outputs": [
    {
     "name": "stdout",
     "output_type": "stream",
     "text": [
      "('Producto Correa agregado al inventario', [{'nombre': 'Pienso', 'precio': 25.6, 'cantidad': 100}, {'nombre': 'Latas', 'precio': 20.99, 'cantidad': 50}, {'nombre': 'Arenero', 'precio': 19.99, 'cantidad': 45}, {'nombre': 'Juguete', 'precio': 16.55, 'cantidad': 20}, {'nombre': 'Chuches', 'precio': 5, 'cantidad': 120}, {'nombre': 'Correa', 'precio': 8, 'cantidad': 10}])\n"
     ]
    }
   ],
   "source": [
    "print(agregar_producto('Correa',8, 10))"
   ]
  },
  {
   "cell_type": "code",
   "execution_count": 139,
   "id": "a12ae359",
   "metadata": {},
   "outputs": [
    {
     "name": "stdout",
     "output_type": "stream",
     "text": [
      "('El producto Pienso ya estaba en el inventario, se actualizó la cantidad a 150', [{'nombre': 'Pienso', 'precio': 25.6, 'cantidad': 150}, {'nombre': 'Latas', 'precio': 20.99, 'cantidad': 50}, {'nombre': 'Arenero', 'precio': 19.99, 'cantidad': 45}, {'nombre': 'Juguete', 'precio': 16.55, 'cantidad': 20}, {'nombre': 'Chuches', 'precio': 5, 'cantidad': 120}, {'nombre': 'Correa', 'precio': 8, 'cantidad': 10}])\n"
     ]
    }
   ],
   "source": [
    "print(agregar_producto('Pienso',25.6, 50))"
   ]
  },
  {
   "cell_type": "code",
   "execution_count": 140,
   "id": "35f247ff",
   "metadata": {},
   "outputs": [],
   "source": [
    "def ver_inventario():\n",
    "    for elemento in inventario:\n",
    "        print(elemento)"
   ]
  },
  {
   "cell_type": "code",
   "execution_count": 141,
   "id": "87c89901",
   "metadata": {},
   "outputs": [
    {
     "name": "stdout",
     "output_type": "stream",
     "text": [
      "{'nombre': 'Pienso', 'precio': 25.6, 'cantidad': 150}\n",
      "{'nombre': 'Latas', 'precio': 20.99, 'cantidad': 50}\n",
      "{'nombre': 'Arenero', 'precio': 19.99, 'cantidad': 45}\n",
      "{'nombre': 'Juguete', 'precio': 16.55, 'cantidad': 20}\n",
      "{'nombre': 'Chuches', 'precio': 5, 'cantidad': 120}\n",
      "{'nombre': 'Correa', 'precio': 8, 'cantidad': 10}\n"
     ]
    }
   ],
   "source": [
    "ver_inventario()"
   ]
  },
  {
   "cell_type": "code",
   "execution_count": 142,
   "id": "c1b48998",
   "metadata": {},
   "outputs": [],
   "source": [
    "def buscar_producto(nombre):\n",
    "    for producto in inventario:\n",
    "        if nombre == producto['nombre']:\n",
    "            return(producto)\n",
    "    print(\"este producto no se encuentra en nuestro inventario\")\n"
   ]
  },
  {
   "cell_type": "code",
   "execution_count": 146,
   "id": "84f0b612",
   "metadata": {},
   "outputs": [
    {
     "data": {
      "text/plain": [
       "{'nombre': 'Latas', 'precio': 20.99, 'cantidad': 50}"
      ]
     },
     "execution_count": 146,
     "metadata": {},
     "output_type": "execute_result"
    }
   ],
   "source": [
    "buscar_producto('Latas')"
   ]
  },
  {
   "cell_type": "code",
   "execution_count": 180,
   "id": "cadd192e",
   "metadata": {},
   "outputs": [],
   "source": [
    "def actualizar_stock(nombre, cantidad):\n",
    "    for producto in inventario:\n",
    "        if producto['nombre'] == nombre:\n",
    "            producto['cantidad'] += cantidad\n",
    "            nueva_cantidad = producto['cantidad']\n",
    "            return(f\"se ha modificado el stock, ahora tenemos {nueva_cantidad} {nombre}\")\n",
    "#Hay que volver a crear la variable 'nueva_cantidad' porque solo existe dentro de cada función\n",
    "    print('este producto no está en nuestro inventario')\n",
    "            "
   ]
  },
  {
   "cell_type": "code",
   "execution_count": 181,
   "id": "546ae955",
   "metadata": {},
   "outputs": [
    {
     "data": {
      "text/plain": [
       "'se ha modificado el stock, ahora tenemos 50 Latas'"
      ]
     },
     "execution_count": 181,
     "metadata": {},
     "output_type": "execute_result"
    }
   ],
   "source": [
    "actualizar_stock('Latas', 9)"
   ]
  }
 ],
 "metadata": {
  "kernelspec": {
   "display_name": "base",
   "language": "python",
   "name": "python3"
  },
  "language_info": {
   "codemirror_mode": {
    "name": "ipython",
    "version": 3
   },
   "file_extension": ".py",
   "mimetype": "text/x-python",
   "name": "python",
   "nbconvert_exporter": "python",
   "pygments_lexer": "ipython3",
   "version": "3.12.7"
  }
 },
 "nbformat": 4,
 "nbformat_minor": 5
}
